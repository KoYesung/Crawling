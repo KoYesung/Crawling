{
 "cells": [
  {
   "cell_type": "code",
   "execution_count": 1,
   "id": "48a8ec6b",
   "metadata": {},
   "outputs": [],
   "source": [
    "# /html/body/div[3]/div[8]/div/div/div[2]/div[5]/div/div/div/ul[1]/li[1]"
   ]
  },
  {
   "cell_type": "code",
   "execution_count": null,
   "id": "4ec49523",
   "metadata": {},
   "outputs": [],
   "source": []
  }
 ],
 "metadata": {
  "kernelspec": {
   "display_name": "Python 3 (ipykernel)",
   "language": "python",
   "name": "python3"
  },
  "language_info": {
   "codemirror_mode": {
    "name": "ipython",
    "version": 3
   },
   "file_extension": ".py",
   "mimetype": "text/x-python",
   "name": "python",
   "nbconvert_exporter": "python",
   "pygments_lexer": "ipython3",
   "version": "3.8.6"
  }
 },
 "nbformat": 4,
 "nbformat_minor": 5
}
