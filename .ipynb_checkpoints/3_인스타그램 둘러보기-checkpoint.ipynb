{
 "cells": [
  {
   "cell_type": "code",
   "execution_count": 47,
   "id": "1603e2c7",
   "metadata": {},
   "outputs": [],
   "source": [
    "from selenium import webdriver\n",
    "import chromedriver_autoinstaller\n",
    "from selenium.webdriver.common.by import By\n",
    "import time"
   ]
  },
  {
   "cell_type": "code",
   "execution_count": 48,
   "id": "ffea0218",
   "metadata": {},
   "outputs": [],
   "source": [
    "driver = webdriver.Chrome()"
   ]
  },
  {
   "cell_type": "markdown",
   "id": "9b032c0e",
   "metadata": {},
   "source": [
    "# 1. 로그인 "
   ]
  },
  {
   "cell_type": "code",
   "execution_count": 49,
   "id": "e0b0d099",
   "metadata": {},
   "outputs": [],
   "source": [
    "# driver 객체의 모든 요소를 찾는 작업에서 최대 3초 동안 대기, 이 기간 내에 요소가 사용 가능하면 즉시 처리\n",
    "# 3초를 설정했음에도 1초만에 페이지 로딩시간이 걸렸다면 1초만 대기하고 넘어감 \n",
    "driver.implicitly_wait(3) # 페이지가 로드될때 3초까지 안뜨면 3초까지 기다렸다가 넘어가고 그안에 뜨면 넘어감\n",
    "\n",
    "url = 'https://www.instagram.com/'\n",
    "driver.get(url)\n",
    "id = 'dokin12@naver.com'\n",
    "pw = 'zz2632'\n",
    "# /html/body/div[2]/div/div/div[1]/div/div/div/div[1]/section/main/article/div[2]/div[1]/div[2]/form/div/div[1]/div/label/input\n",
    "#/html/body/div[2]/div/div/div[1]/div/div/div/div[1]/section/main/article/div[2]/div[1]/div[2]/form/div/div[2]/div/label/input\n",
    "input_id = driver.find_element(By.XPATH, '/html/body/div[2]/div/div/div[1]/div/div/div/div[1]/section/main/article/div[2]/div[1]/div[2]/form/div/div[1]/div/label/input')\n",
    "input_pw =  driver.find_element(By.XPATH, '/html/body/div[2]/div/div/div[1]/div/div/div/div[1]/section/main/article/div[2]/div[1]/div[2]/form/div/div[2]/div/label/input')\n",
    "input_id.send_keys(id)\n",
    "input_pw.send_keys(pw)\n",
    "driver.find_element(By.XPATH, '/html/body/div[2]/div/div/div[1]/div/div/div/div[1]/section/main/article/div[2]/div[1]/div[2]/form/div/div[3]/button/div').click()\n",
    "time.sleep(5)"
   ]
  },
  {
   "cell_type": "markdown",
   "id": "8a57bed8",
   "metadata": {},
   "source": [
    "# 2. 해시태그 검색 "
   ]
  },
  {
   "cell_type": "code",
   "execution_count": 26,
   "id": "5ce50b4b",
   "metadata": {},
   "outputs": [],
   "source": [
    "hashtag = '술스타그램'\n",
    "url = f'https://www.instagram.com/explore/tags/{hashtag}/'\n",
    "driver.get(url)\n",
    "time.sleep(5)"
   ]
  },
  {
   "cell_type": "markdown",
   "id": "b80f02c9",
   "metadata": {},
   "source": [
    "# 3. 스크롤 내리기"
   ]
  },
  {
   "cell_type": "code",
   "execution_count": 27,
   "id": "4d88515d",
   "metadata": {},
   "outputs": [],
   "source": [
    "# 스크롤 내리면서 새로운 게시물 계속 보기\n",
    "for _ in range(5):\n",
    "    driver.execute_script('window.scrollTo(0, document.body.scrollHeight)')   # 자바스크립트 코드를 쓰면 자바스크립트가 먹힘\n",
    "    time.sleep(5)"
   ]
  },
  {
   "cell_type": "markdown",
   "id": "ddc2faea",
   "metadata": {},
   "source": [
    "# 4. 원하는 게시글 클릭하기"
   ]
  },
  {
   "cell_type": "code",
   "execution_count": 28,
   "id": "07fded12",
   "metadata": {},
   "outputs": [],
   "source": [
    "xpath = '/html/body/div[2]/div/div/div[2]/div/div/div/div[1]/div[1]/div[2]/section/main/article/div[1]/div/div/div[3]/div[3]/a'\n",
    "driver.find_element(By.XPATH, xpath).click()\n",
    "time.sleep(3)"
   ]
  },
  {
   "cell_type": "markdown",
   "id": "5d597497",
   "metadata": {},
   "source": [
    "# 5. 좋아요 누르기 "
   ]
  },
  {
   "cell_type": "code",
   "execution_count": 29,
   "id": "887ad056",
   "metadata": {},
   "outputs": [],
   "source": [
    "like_xpath = '/html/body/div[2]/div/div/div[3]/div/div/div[1]/div/div[3]/div/div/div/div/div[2]/div/article/div/div[2]/div/div/div[2]/section[1]/span[1]/button'\n",
    "driver.find_element(By.XPATH, like_xpath).click()\n",
    "time.sleep(1)"
   ]
  },
  {
   "cell_type": "markdown",
   "id": "dc4b4e20",
   "metadata": {},
   "source": [
    "# 6. 댓글 달기"
   ]
  },
  {
   "cell_type": "code",
   "execution_count": 30,
   "id": "62d95366",
   "metadata": {},
   "outputs": [],
   "source": [
    "comment = '사진 잘 보고갑니다!'\n",
    "comment_xpath = '/html/body/div[2]/div/div/div[3]/div/div/div[1]/div/div[3]/div/div/div/div/div[2]/div/article/div/div[2]/div/div/div[2]/section[3]/div/form/div/textarea'\n",
    "driver.find_element(By.XPATH, comment_xpath).click()  # 댓글창을 한번 클릭 후 댓글을 입력해야함\n",
    "driver.find_element(By.XPATH, comment_xpath).send_keys(comment)\n",
    "time.sleep(3)"
   ]
  },
  {
   "cell_type": "code",
   "execution_count": 31,
   "id": "0f71e567",
   "metadata": {},
   "outputs": [],
   "source": [
    "send_xpath = '/html/body/div[2]/div/div/div[3]/div/div/div[1]/div/div[3]/div/div/div/div/div[2]/div/article/div/div[2]/div/div/div[2]/section[3]/div/form/div/div[2]/div'\n",
    "driver.find_element(By.XPATH, send_xpath).click()\n",
    "time.sleep(3)"
   ]
  },
  {
   "cell_type": "markdown",
   "id": "a4971db5",
   "metadata": {},
   "source": [
    "# 7. 다음 게시글 누르기"
   ]
  },
  {
   "cell_type": "code",
   "execution_count": 32,
   "id": "5a0422bd",
   "metadata": {},
   "outputs": [],
   "source": [
    "next_xpath = '/html/body/div[2]/div/div/div[3]/div/div/div[1]/div/div[3]/div/div/div/div/div[1]/div/div/div[2]/button'\n",
    "driver.find_element(By.XPATH, next_xpath).click()\n",
    "time.sleep(3)"
   ]
  },
  {
   "cell_type": "markdown",
   "id": "9fa052ac",
   "metadata": {},
   "source": [
    "# 8. 함수로 리팩토링"
   ]
  },
  {
   "cell_type": "code",
   "execution_count": 56,
   "id": "9d1bb5c4",
   "metadata": {},
   "outputs": [],
   "source": [
    "# 로그인 함수\n",
    "# 해시태그 검색 함수(해시태그를 넘기면 검색하는 함수)\n",
    "# 좋아요 및 댓글달기 함수(어떤 사진을 선택할지(index), 어떤 댓글을 달건지 전달(string), 반복에 대한 숫자(int))"
   ]
  },
  {
   "cell_type": "code",
   "execution_count": 62,
   "id": "5facec32",
   "metadata": {},
   "outputs": [
    {
     "ename": "SyntaxError",
     "evalue": "invalid syntax (1533011119.py, line 27)",
     "output_type": "error",
     "traceback": [
      "\u001b[1;36m  Cell \u001b[1;32mIn[62], line 27\u001b[1;36m\u001b[0m\n\u001b[1;33m    for i in range(repeat):\u001b[0m\n\u001b[1;37m                          ^\u001b[0m\n\u001b[1;31mSyntaxError\u001b[0m\u001b[1;31m:\u001b[0m invalid syntax\n"
     ]
    }
   ],
   "source": [
    "# # 로그인 함수\n",
    "# def login(user_id, user_pw):\n",
    "#     input_id = driver.find_element(By.XPATH, '/html/body/div[2]/div/div/div[1]/div/div/div/div[1]/section/main/article/div[2]/div[1]/div[2]/form/div/div[1]/div/label/input')\n",
    "#     input_pw =  driver.find_element(By.XPATH, '/html/body/div[2]/div/div/div[1]/div/div/div/div[1]/section/main/article/div[2]/div[1]/div[2]/form/div/div[2]/div/label/input')\n",
    "#     input_id.send_keys(user_id)\n",
    "#     input_pw.send_keys(user_pw)\n",
    "#     driver.find_element(By.XPATH, '/html/body/div[2]/div/div/div[1]/div/div/div/div[1]/section/main/article/div[2]/div[1]/div[2]/form/div/div[3]/button/div').click()\n",
    "    \n",
    "# # 해시태그 검색 함수(해시태그를 넘기면 검색하는 함수)\n",
    "# def search(hashtag, scroll_times):\n",
    "#     url = f'https://www.instagram.com/explore/tags/{hashtag}/'\n",
    "#     driver.get(url)\n",
    "#     time.sleep(5)\n",
    "#     for _ in range(scroll_times):\n",
    "#         driver.execute_script('window.scrollTo(0, document.body.scrollHeight)')\n",
    "#         time.sleep(5)\n",
    "    \n",
    "# # 좋아요 및 댓글달기 함수(어떤 사진을 선택할지(index), 어떤 댓글을 달건지 전달(string), 반복에 대한 숫자(int))\n",
    "# def like_and_comment(nth, comment, repeat=1):\n",
    "#     # 이미지 클릭\n",
    "#     row = (nth-1)//3+1\n",
    "#     col = (nth-1)%+1\n",
    "#     xpath = f'/html/body/div[2]/div/div/div[2]/div/div/div/div[1]/div[1]/div[2]/section/main/article/div[2]/div/div[{row}]/div[{col}]/a/div'\n",
    "#     driver.find_element(By.XPATH, xpath).click()\n",
    "#     time.sleep(3\n",
    "    \n",
    "#     for i in range(repeat):\n",
    "#         # 좋아요 클릭\n",
    "#         like_xpath = '/html/body/div[2]/div/div/div[3]/div/div/div[1]/div/div[3]/div/div/div/div/div[2]/div/article/div/div[2]/div/div/div[2]/section[1]/span[1]/button'\n",
    "#         driver.find_element(By.XPATH, like_xpath).click()\n",
    "#         time.sleep(1)\n",
    "\n",
    "#         # 댓글 달기\n",
    "#         comment_xpath = '/html/body/div[2]/div/div/div[3]/div/div/div[1]/div/div[3]/div/div/div/div/div[2]/div/article/div/div[2]/div/div/div[2]/section[3]/div/form/div/textarea'\n",
    "#         driver.find_element(By.XPATH, comment_xpath).click()  # 댓글창을 한번 클릭 후 댓글을 입력해야함\n",
    "#         driver.find_element(By.XPATH, comment_xpath).send_keys(comment)\n",
    "#         time.sleep(3)\n",
    "#         send_xpath = '/html/body/div[2]/div/div/div[3]/div/div/div[1]/div/div[3]/div/div/div/div/div[2]/div/article/div/div[2]/div/div/div[2]/section[3]/div/form/div/div[2]/div'\n",
    "#         driver.find_element(By.XPATH, send_xpath).click()\n",
    "#         time.sleep(3)\n",
    "\n",
    "#         if i+1 < repeat:\n",
    "#             # 다음 게시글 클릭\n",
    "#             next_xpath = '/html/body/div[2]/div/div/div[3]/div/div/div[1]/div/div[3]/div/div/div/div/div[1]/div/div/div[2]/button'\n",
    "#             driver.find_element(By.XPATH, next_xpath).click()\n",
    "#             time.sleep(3)\n",
    "        "
   ]
  },
  {
   "cell_type": "code",
   "execution_count": 69,
   "id": "8b52d762",
   "metadata": {},
   "outputs": [],
   "source": [
    "# 로그인\n",
    "def login(id, pw):\n",
    "    input_id = driver.find_element(By.XPATH, '/html/body/div[2]/div/div/div[1]/div/div/div/div[1]/section/main/article/div[2]/div[1]/div[2]/form/div/div[1]/div/label/input')\n",
    "    input_pw = driver.find_element(By.XPATH, '/html/body/div[2]/div/div/div[1]/div/div/div/div[1]/section/main/article/div[2]/div[1]/div[2]/form/div/div[2]/div/label/input')\n",
    "    input_id.send_keys(id)\n",
    "    input_pw.send_keys(pw)\n",
    "    driver.find_element(By.XPATH, '/html/body/div[2]/div/div/div[1]/div/div/div/div[1]/section/main/article/div[2]/div[1]/div[2]/form/div/div[3]/button').click()\n",
    "\n",
    "# 해시태그 검색\n",
    "def search(hashtag, scroll_times):\n",
    "    url = f'https://www.instagram.com/explore/tags/{hashtag}/'\n",
    "    driver.get(url)\n",
    "    time.sleep(5)\n",
    "    for _ in range(scroll_times):\n",
    "        driver.execute_script('window.scrollTo(0, document.body.scrollHeight)')\n",
    "        time.sleep(5)\n",
    "# 좋아요 및 댓글달기(어떤사진을 선택할지 index, 댓글, 반복숫자)\n",
    "def like_and_comment(nth, comment, repeat=1):\n",
    "    row = (nth-1) // 3 + 1\n",
    "    col = (nth-1) % 3 + 1\n",
    "    xpath = f'/html/body/div[2]/div/div/div[2]/div/div/div/div[1]/div[1]/div[2]/section/main/article/div[2]/div/div[{row}]/div[{col}]/a/div'\n",
    "    driver.find_element(By.XPATH, xpath).click()\n",
    "    time.sleep(3)\n",
    "    for i in range(repeat):\n",
    "        like_xpath = '/html/body/div[2]/div/div/div[3]/div/div/div[1]/div/div[3]/div/div/div/div/div[2]/div/article/div/div[2]/div/div/div[2]/section[1]/span[1]/button'\n",
    "        driver.find_element(By.XPATH, like_xpath).click()\n",
    "        time.sleep(2)\n",
    "        comment_xpath = '/html/body/div[2]/div/div/div[3]/div/div/div[1]/div/div[3]/div/div/div/div/div[2]/div/article/div/div[2]/div/div/div[2]/section[3]/div/form/div/textarea'\n",
    "        driver.find_element(By.XPATH, comment_xpath).click()\n",
    "        driver.find_element(By.XPATH, comment_xpath).send_keys(comment)\n",
    "        time.sleep(3)\n",
    "        send_xpath = '/html/body/div[2]/div/div/div[3]/div/div/div[1]/div/div[3]/div/div/div/div/div[2]/div/article/div/div[2]/div/div/div[2]/section[3]/div/form/div/div[2]/div'\n",
    "        driver.find_element(By.XPATH, send_xpath).click()\n",
    "        time.sleep(3)\n",
    "        if i+1 < repeat:\n",
    "            next_xpath = '/html/body/div[2]/div/div/div[3]/div/div/div[1]/div/div[3]/div/div/div/div/div[1]/div/div/div[2]/button'\n",
    "            driver.find_element(By.XPATH, next_xpath).click()\n",
    "            time.sleep(3)"
   ]
  },
  {
   "cell_type": "code",
   "execution_count": 70,
   "id": "dbdd269b",
   "metadata": {},
   "outputs": [
    {
     "ename": "NoSuchWindowException",
     "evalue": "Message: no such window: target window already closed\nfrom unknown error: web view not found\n  (Session info: chrome=114.0.5735.90)\nStacktrace:\nBacktrace:\n\tGetHandleVerifier [0x00D2A813+48355]\n\t(No symbol) [0x00CBC4B1]\n\t(No symbol) [0x00BC5358]\n\t(No symbol) [0x00BAD293]\n\t(No symbol) [0x00C0E37B]\n\t(No symbol) [0x00C1C473]\n\t(No symbol) [0x00C0A536]\n\t(No symbol) [0x00BE82DC]\n\t(No symbol) [0x00BE93DD]\n\tGetHandleVerifier [0x00F8AABD+2539405]\n\tGetHandleVerifier [0x00FCA78F+2800735]\n\tGetHandleVerifier [0x00FC456C+2775612]\n\tGetHandleVerifier [0x00DB51E0+616112]\n\t(No symbol) [0x00CC5F8C]\n\t(No symbol) [0x00CC2328]\n\t(No symbol) [0x00CC240B]\n\t(No symbol) [0x00CB4FF7]\n\tBaseThreadInitThunk [0x770C00F9+25]\n\tRtlGetAppContainerNamedObjectPath [0x77A97BBE+286]\n\tRtlGetAppContainerNamedObjectPath [0x77A97B8E+238]\n",
     "output_type": "error",
     "traceback": [
      "\u001b[1;31m---------------------------------------------------------------------------\u001b[0m",
      "\u001b[1;31mNoSuchWindowException\u001b[0m                     Traceback (most recent call last)",
      "Cell \u001b[1;32mIn[70], line 13\u001b[0m\n\u001b[0;32m      9\u001b[0m login(\u001b[38;5;28mid\u001b[39m, pw)\n\u001b[0;32m     11\u001b[0m hashtag \u001b[38;5;241m=\u001b[39m \u001b[38;5;124m'\u001b[39m\u001b[38;5;124m술스타그램\u001b[39m\u001b[38;5;124m'\u001b[39m\n\u001b[1;32m---> 13\u001b[0m \u001b[43msearch\u001b[49m\u001b[43m(\u001b[49m\u001b[43mhashtag\u001b[49m\u001b[43m,\u001b[49m\u001b[43m \u001b[49m\u001b[38;5;241;43m3\u001b[39;49m\u001b[43m)\u001b[49m\n\u001b[0;32m     14\u001b[0m time\u001b[38;5;241m.\u001b[39msleep(\u001b[38;5;241m5\u001b[39m)\n\u001b[0;32m     16\u001b[0m like_and_comment(\u001b[38;5;241m7\u001b[39m, \u001b[38;5;124m'\u001b[39m\u001b[38;5;124m사진 잘 보고 갑니다!\u001b[39m\u001b[38;5;124m'\u001b[39m, \u001b[38;5;241m3\u001b[39m)\n",
      "Cell \u001b[1;32mIn[69], line 15\u001b[0m, in \u001b[0;36msearch\u001b[1;34m(hashtag, scroll_times)\u001b[0m\n\u001b[0;32m     13\u001b[0m time\u001b[38;5;241m.\u001b[39msleep(\u001b[38;5;241m5\u001b[39m)\n\u001b[0;32m     14\u001b[0m \u001b[38;5;28;01mfor\u001b[39;00m _ \u001b[38;5;129;01min\u001b[39;00m \u001b[38;5;28mrange\u001b[39m(scroll_times):\n\u001b[1;32m---> 15\u001b[0m     \u001b[43mdriver\u001b[49m\u001b[38;5;241;43m.\u001b[39;49m\u001b[43mexecute_script\u001b[49m\u001b[43m(\u001b[49m\u001b[38;5;124;43m'\u001b[39;49m\u001b[38;5;124;43mwindow.scrollTo(0, document.body.scrollHeight)\u001b[39;49m\u001b[38;5;124;43m'\u001b[39;49m\u001b[43m)\u001b[49m\n\u001b[0;32m     16\u001b[0m     time\u001b[38;5;241m.\u001b[39msleep(\u001b[38;5;241m5\u001b[39m)\n",
      "File \u001b[1;32mc:\\users\\administrator\\appdata\\local\\programs\\python\\python38\\lib\\site-packages\\selenium\\webdriver\\remote\\webdriver.py:500\u001b[0m, in \u001b[0;36mWebDriver.execute_script\u001b[1;34m(self, script, *args)\u001b[0m\n\u001b[0;32m    497\u001b[0m converted_args \u001b[38;5;241m=\u001b[39m \u001b[38;5;28mlist\u001b[39m(args)\n\u001b[0;32m    498\u001b[0m command \u001b[38;5;241m=\u001b[39m Command\u001b[38;5;241m.\u001b[39mW3C_EXECUTE_SCRIPT\n\u001b[1;32m--> 500\u001b[0m \u001b[38;5;28;01mreturn\u001b[39;00m \u001b[38;5;28;43mself\u001b[39;49m\u001b[38;5;241;43m.\u001b[39;49m\u001b[43mexecute\u001b[49m\u001b[43m(\u001b[49m\u001b[43mcommand\u001b[49m\u001b[43m,\u001b[49m\u001b[43m \u001b[49m\u001b[43m{\u001b[49m\u001b[38;5;124;43m\"\u001b[39;49m\u001b[38;5;124;43mscript\u001b[39;49m\u001b[38;5;124;43m\"\u001b[39;49m\u001b[43m:\u001b[49m\u001b[43m \u001b[49m\u001b[43mscript\u001b[49m\u001b[43m,\u001b[49m\u001b[43m \u001b[49m\u001b[38;5;124;43m\"\u001b[39;49m\u001b[38;5;124;43margs\u001b[39;49m\u001b[38;5;124;43m\"\u001b[39;49m\u001b[43m:\u001b[49m\u001b[43m \u001b[49m\u001b[43mconverted_args\u001b[49m\u001b[43m}\u001b[49m\u001b[43m)\u001b[49m[\u001b[38;5;124m\"\u001b[39m\u001b[38;5;124mvalue\u001b[39m\u001b[38;5;124m\"\u001b[39m]\n",
      "File \u001b[1;32mc:\\users\\administrator\\appdata\\local\\programs\\python\\python38\\lib\\site-packages\\selenium\\webdriver\\remote\\webdriver.py:440\u001b[0m, in \u001b[0;36mWebDriver.execute\u001b[1;34m(self, driver_command, params)\u001b[0m\n\u001b[0;32m    438\u001b[0m response \u001b[38;5;241m=\u001b[39m \u001b[38;5;28mself\u001b[39m\u001b[38;5;241m.\u001b[39mcommand_executor\u001b[38;5;241m.\u001b[39mexecute(driver_command, params)\n\u001b[0;32m    439\u001b[0m \u001b[38;5;28;01mif\u001b[39;00m response:\n\u001b[1;32m--> 440\u001b[0m     \u001b[38;5;28;43mself\u001b[39;49m\u001b[38;5;241;43m.\u001b[39;49m\u001b[43merror_handler\u001b[49m\u001b[38;5;241;43m.\u001b[39;49m\u001b[43mcheck_response\u001b[49m\u001b[43m(\u001b[49m\u001b[43mresponse\u001b[49m\u001b[43m)\u001b[49m\n\u001b[0;32m    441\u001b[0m     response[\u001b[38;5;124m\"\u001b[39m\u001b[38;5;124mvalue\u001b[39m\u001b[38;5;124m\"\u001b[39m] \u001b[38;5;241m=\u001b[39m \u001b[38;5;28mself\u001b[39m\u001b[38;5;241m.\u001b[39m_unwrap_value(response\u001b[38;5;241m.\u001b[39mget(\u001b[38;5;124m\"\u001b[39m\u001b[38;5;124mvalue\u001b[39m\u001b[38;5;124m\"\u001b[39m, \u001b[38;5;28;01mNone\u001b[39;00m))\n\u001b[0;32m    442\u001b[0m     \u001b[38;5;28;01mreturn\u001b[39;00m response\n",
      "File \u001b[1;32mc:\\users\\administrator\\appdata\\local\\programs\\python\\python38\\lib\\site-packages\\selenium\\webdriver\\remote\\errorhandler.py:245\u001b[0m, in \u001b[0;36mErrorHandler.check_response\u001b[1;34m(self, response)\u001b[0m\n\u001b[0;32m    243\u001b[0m         alert_text \u001b[38;5;241m=\u001b[39m value[\u001b[38;5;124m\"\u001b[39m\u001b[38;5;124malert\u001b[39m\u001b[38;5;124m\"\u001b[39m]\u001b[38;5;241m.\u001b[39mget(\u001b[38;5;124m\"\u001b[39m\u001b[38;5;124mtext\u001b[39m\u001b[38;5;124m\"\u001b[39m)\n\u001b[0;32m    244\u001b[0m     \u001b[38;5;28;01mraise\u001b[39;00m exception_class(message, screen, stacktrace, alert_text)  \u001b[38;5;66;03m# type: ignore[call-arg]  # mypy is not smart enough here\u001b[39;00m\n\u001b[1;32m--> 245\u001b[0m \u001b[38;5;28;01mraise\u001b[39;00m exception_class(message, screen, stacktrace)\n",
      "\u001b[1;31mNoSuchWindowException\u001b[0m: Message: no such window: target window already closed\nfrom unknown error: web view not found\n  (Session info: chrome=114.0.5735.90)\nStacktrace:\nBacktrace:\n\tGetHandleVerifier [0x00D2A813+48355]\n\t(No symbol) [0x00CBC4B1]\n\t(No symbol) [0x00BC5358]\n\t(No symbol) [0x00BAD293]\n\t(No symbol) [0x00C0E37B]\n\t(No symbol) [0x00C1C473]\n\t(No symbol) [0x00C0A536]\n\t(No symbol) [0x00BE82DC]\n\t(No symbol) [0x00BE93DD]\n\tGetHandleVerifier [0x00F8AABD+2539405]\n\tGetHandleVerifier [0x00FCA78F+2800735]\n\tGetHandleVerifier [0x00FC456C+2775612]\n\tGetHandleVerifier [0x00DB51E0+616112]\n\t(No symbol) [0x00CC5F8C]\n\t(No symbol) [0x00CC2328]\n\t(No symbol) [0x00CC240B]\n\t(No symbol) [0x00CB4FF7]\n\tBaseThreadInitThunk [0x770C00F9+25]\n\tRtlGetAppContainerNamedObjectPath [0x77A97BBE+286]\n\tRtlGetAppContainerNamedObjectPath [0x77A97B8E+238]\n"
     ]
    }
   ],
   "source": [
    "driver = webdriver.Chrome()\n",
    "driver.implicitly_wait(3) \n",
    "\n",
    "url = 'https://www.instagram.com/'\n",
    "driver.get(url)\n",
    "\n",
    "id = 'dokin12@naver.com'\n",
    "pw = 'zz2632'\n",
    "login(id, pw)\n",
    "\n",
    "hashtag = '술스타그램'\n",
    "\n",
    "search(hashtag, 3)\n",
    "time.sleep(5)\n",
    "\n",
    "like_and_comment(7, '사진 잘 보고 갑니다!', 3)"
   ]
  },
  {
   "cell_type": "code",
   "execution_count": null,
   "id": "88340fa7",
   "metadata": {},
   "outputs": [],
   "source": []
  }
 ],
 "metadata": {
  "kernelspec": {
   "display_name": "Python 3 (ipykernel)",
   "language": "python",
   "name": "python3"
  },
  "language_info": {
   "codemirror_mode": {
    "name": "ipython",
    "version": 3
   },
   "file_extension": ".py",
   "mimetype": "text/x-python",
   "name": "python",
   "nbconvert_exporter": "python",
   "pygments_lexer": "ipython3",
   "version": "3.8.6"
  }
 },
 "nbformat": 4,
 "nbformat_minor": 5
}
