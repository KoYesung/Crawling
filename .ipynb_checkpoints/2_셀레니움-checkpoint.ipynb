{
 "cells": [
  {
   "cell_type": "markdown",
   "id": "ed7ecc02",
   "metadata": {},
   "source": [
    "# 1. 셀레니움(Selenium)\n",
    "* 셀레니움은 브라우저를 컨트롤 할 수 있도록 지원하는 라이브러리"
   ]
  },
  {
   "cell_type": "code",
   "execution_count": 1,
   "id": "7a15a877",
   "metadata": {},
   "outputs": [
    {
     "name": "stdout",
     "output_type": "stream",
     "text": [
      "Collecting selenium\n",
      "  Downloading selenium-4.9.1-py3-none-any.whl (6.6 MB)\n",
      "     ---------------------------------------- 0.0/6.6 MB ? eta -:--:--\n",
      "     --- ------------------------------------ 0.5/6.6 MB 16.6 MB/s eta 0:00:01\n",
      "     --------- ------------------------------ 1.5/6.6 MB 18.9 MB/s eta 0:00:01\n",
      "     ----------------- ---------------------- 2.8/6.6 MB 22.5 MB/s eta 0:00:01\n",
      "     -------------------------- ------------- 4.4/6.6 MB 25.2 MB/s eta 0:00:01\n",
      "     ----------------------------------- ---- 5.9/6.6 MB 26.7 MB/s eta 0:00:01\n",
      "     ---------------------------------------- 6.6/6.6 MB 24.6 MB/s eta 0:00:00\n",
      "Collecting trio-websocket~=0.9\n",
      "  Downloading trio_websocket-0.10.2-py3-none-any.whl (17 kB)\n",
      "Requirement already satisfied: urllib3[socks]<3,>=1.26 in c:\\users\\administrator\\appdata\\local\\programs\\python\\python38\\lib\\site-packages (from selenium) (1.26.14)\n",
      "Requirement already satisfied: certifi>=2021.10.8 in c:\\users\\administrator\\appdata\\local\\programs\\python\\python38\\lib\\site-packages (from selenium) (2022.12.7)\n",
      "Collecting trio~=0.17\n",
      "  Downloading trio-0.22.0-py3-none-any.whl (384 kB)\n",
      "     ---------------------------------------- 0.0/384.9 kB ? eta -:--:--\n",
      "     ------------------------------------- 384.9/384.9 kB 23.4 MB/s eta 0:00:00\n",
      "Collecting async-generator>=1.9\n",
      "  Downloading async_generator-1.10-py3-none-any.whl (18 kB)\n",
      "Collecting exceptiongroup>=1.0.0rc9\n",
      "  Downloading exceptiongroup-1.1.1-py3-none-any.whl (14 kB)\n",
      "Requirement already satisfied: cffi>=1.14 in c:\\users\\administrator\\appdata\\local\\programs\\python\\python38\\lib\\site-packages (from trio~=0.17->selenium) (1.15.1)\n",
      "Requirement already satisfied: attrs>=19.2.0 in c:\\users\\administrator\\appdata\\local\\programs\\python\\python38\\lib\\site-packages (from trio~=0.17->selenium) (22.2.0)\n",
      "Requirement already satisfied: idna in c:\\users\\administrator\\appdata\\local\\programs\\python\\python38\\lib\\site-packages (from trio~=0.17->selenium) (3.4)\n",
      "Collecting outcome\n",
      "  Downloading outcome-1.2.0-py2.py3-none-any.whl (9.7 kB)\n",
      "Requirement already satisfied: sniffio in c:\\users\\administrator\\appdata\\local\\programs\\python\\python38\\lib\\site-packages (from trio~=0.17->selenium) (1.3.0)\n",
      "Collecting sortedcontainers\n",
      "  Downloading sortedcontainers-2.4.0-py2.py3-none-any.whl (29 kB)\n",
      "Collecting wsproto>=0.14\n",
      "  Downloading wsproto-1.2.0-py3-none-any.whl (24 kB)\n",
      "Collecting PySocks!=1.5.7,<2.0,>=1.5.6\n",
      "  Downloading PySocks-1.7.1-py3-none-any.whl (16 kB)\n",
      "Requirement already satisfied: pycparser in c:\\users\\administrator\\appdata\\local\\programs\\python\\python38\\lib\\site-packages (from cffi>=1.14->trio~=0.17->selenium) (2.21)\n",
      "Collecting h11<1,>=0.9.0\n",
      "  Downloading h11-0.14.0-py3-none-any.whl (58 kB)\n",
      "     ---------------------------------------- 0.0/58.3 kB ? eta -:--:--\n",
      "     ---------------------------------------- 58.3/58.3 kB ? eta 0:00:00\n",
      "Installing collected packages: sortedcontainers, PySocks, outcome, h11, exceptiongroup, async-generator, wsproto, trio, trio-websocket, selenium\n",
      "Successfully installed PySocks-1.7.1 async-generator-1.10 exceptiongroup-1.1.1 h11-0.14.0 outcome-1.2.0 selenium-4.9.1 sortedcontainers-2.4.0 trio-0.22.0 trio-websocket-0.10.2 wsproto-1.2.0\n"
     ]
    },
    {
     "name": "stderr",
     "output_type": "stream",
     "text": [
      "\n",
      "[notice] A new release of pip is available: 23.0.1 -> 23.1.2\n",
      "[notice] To update, run: python.exe -m pip install --upgrade pip\n"
     ]
    }
   ],
   "source": [
    "!pip install selenium"
   ]
  },
  {
   "cell_type": "code",
   "execution_count": 3,
   "id": "e4ee50b3",
   "metadata": {},
   "outputs": [
    {
     "name": "stdout",
     "output_type": "stream",
     "text": [
      "Collecting chromedriver_autoinstaller\n",
      "  Downloading chromedriver_autoinstaller-0.4.0-py3-none-any.whl (6.5 kB)\n",
      "Installing collected packages: chromedriver_autoinstaller\n",
      "Successfully installed chromedriver_autoinstaller-0.4.0\n"
     ]
    },
    {
     "name": "stderr",
     "output_type": "stream",
     "text": [
      "\n",
      "[notice] A new release of pip is available: 23.0.1 -> 23.1.2\n",
      "[notice] To update, run: python.exe -m pip install --upgrade pip\n"
     ]
    }
   ],
   "source": [
    "!pip install chromedriver_autoinstaller"
   ]
  },
  {
   "cell_type": "code",
   "execution_count": 4,
   "id": "5005d2f0",
   "metadata": {},
   "outputs": [],
   "source": [
    "from selenium import webdriver"
   ]
  },
  {
   "cell_type": "code",
   "execution_count": 6,
   "id": "b670612c",
   "metadata": {},
   "outputs": [],
   "source": [
    "driver = webdriver.Chrome()"
   ]
  },
  {
   "cell_type": "code",
   "execution_count": 9,
   "id": "9d6b0b3b",
   "metadata": {},
   "outputs": [],
   "source": [
    "driver.get('https://www.google.co.kr/')"
   ]
  },
  {
   "cell_type": "code",
   "execution_count": 10,
   "id": "80275b02",
   "metadata": {},
   "outputs": [],
   "source": [
    "search = driver.find_element('name', 'q')   # name이 q인 태그 하나를 찾음"
   ]
  },
  {
   "cell_type": "code",
   "execution_count": 12,
   "id": "2d21ea81",
   "metadata": {},
   "outputs": [],
   "source": [
    "from selenium.webdriver.common.keys import Keys  # 키보드의 키들을 컨트롤할 수 있는 라이브러리"
   ]
  },
  {
   "cell_type": "code",
   "execution_count": 14,
   "id": "f6ff1f3a",
   "metadata": {},
   "outputs": [],
   "source": [
    "search.send_keys('날씨')  # '날씨'라는 글자를 검색창에 쓰게함"
   ]
  },
  {
   "cell_type": "code",
   "execution_count": 15,
   "id": "a69a0f2f",
   "metadata": {},
   "outputs": [],
   "source": [
    "search.send_keys(Keys.RETURN)   # Keys.RETURN: Enter"
   ]
  },
  {
   "cell_type": "markdown",
   "id": "c61f7a0e",
   "metadata": {},
   "source": [
    "# 2. 네이버 웹툰 댓글 크롤링\n",
    "* https://comic.naver.com/webtoon/detail?titleId=796152&no=49"
   ]
  },
  {
   "cell_type": "code",
   "execution_count": 18,
   "id": "83071b15",
   "metadata": {},
   "outputs": [],
   "source": [
    "from bs4 import BeautifulSoup"
   ]
  },
  {
   "cell_type": "code",
   "execution_count": 16,
   "id": "4d5232c2",
   "metadata": {},
   "outputs": [],
   "source": [
    "driver = webdriver.Chrome()"
   ]
  },
  {
   "cell_type": "code",
   "execution_count": 17,
   "id": "ecefae3c",
   "metadata": {},
   "outputs": [],
   "source": [
    "driver.get('https://comic.naver.com/webtoon/detail?titleId=796152&no=49')"
   ]
  },
  {
   "cell_type": "code",
   "execution_count": 19,
   "id": "197268f6",
   "metadata": {},
   "outputs": [],
   "source": [
    "soup = BeautifulSoup(driver.page_source)"
   ]
  },
  {
   "cell_type": "code",
   "execution_count": 21,
   "id": "92e194d8",
   "metadata": {},
   "outputs": [],
   "source": [
    "# print(soup)"
   ]
  },
  {
   "cell_type": "code",
   "execution_count": 26,
   "id": "e9d88b4b",
   "metadata": {},
   "outputs": [
    {
     "name": "stdout",
     "output_type": "stream",
     "text": [
      "[<span class=\"u_cbox_contents\" data-lang=\"ko\" style=\"\">안보고 가면 사람 아님</span>, <span class=\"u_cbox_contents\" data-lang=\"ko\" style=\"\">애기야...... 오늘도 아줌마 치유해줘서 고마워.... </span>, <span class=\"u_cbox_contents\" data-lang=\"ko\" style=\"\">마루 강쥐 모먼트 나올 때마다 미치겠다ㅋㅋㅋㅋㅋㅋㅋㅋㅋㅋㅋㅋㅋ</span>, <span class=\"u_cbox_contents\" data-lang=\"ko\" style=\"\">혹시 반려견과 함께하시는분? 다들 마루처럼 후드를 극혐하나요? 진짜 궁금해요ㅋㅋㅋㅋㅋㅋㅋㅋㅋㅋㅋ</span>, <span class=\"u_cbox_contents\" data-lang=\"ko\" style=\"\">나 마루랑 친구하고 싶음....우리 아파트 단지에 마루가 살았으면 좋겠음......\n",
      "집에 우연히 오다 마주쳐서 마루 떡볶이 사주고....\n",
      "마루랑 마주치면 놀고.....\n",
      "1인 1가구 마루 시급함..</span>, <span class=\"u_cbox_contents\" data-lang=\"ko\" style=\"\">아 임주스씨 서율이에게 옷 대보는 거 그냥 아빠임 </span>, <span class=\"u_cbox_contents\" data-lang=\"ko\" style=\"\">⠀⠀⠀⠀⠀⠀⠀⠀⠀⠀⠀⠀⠀⠀⠀⠀⠀⠀⠀⠀⠀⠀⠀⠀⠀⠀⠀⠀⠀⠀⠀⠀⠀⠀⠀\n",
      "⠀⠀⠀⠀⠀⠀⠀⠀⠔⢂⠐⠠⡀⠠⠀⠐⠒⠒⠒⠂⠀⠤⢀⠀⠀⠀⠀⠀⠀⠀⠀⠀⠀⠀⠀\n",
      "⠀⠀⠀⠀⠀⠀⠀⡈⠀⡠⠀⠁⠀⠀⠀⠀⠀⠀⠀⠀⠀⠀⠀⠈⠂⠀⠀⠀⠀⠀⠀⠀⠀⠀⠀\n",
      "⠀⠀⠀⠀⠀⠀⠀⠀⠀⠀⠈⠒⠢⠀⠄⠀⠀⠀⠀⠀⠀⠀⠀⠀⠀⠀⠢⠀⠀⠀⠀⠀⠀⠀⠀\n",
      "⠀⠀⠀⠀⠀⠀⠌⠀⠀⠀⢠⣐⣄⠀⠀⠉⠑⠀⢄⣀⠀⠀⠀⠀⠀⠀⠀⠑⡀⠀⠀⠀⠀⠀⠀\n",
      "⠀⠀⠀⠀⠀⠰⠀⠀⠀⠀⠈⠛⠁⠀⠀⠀⠀⠀⠀⠀⠁⠒⠤⠄⠀⠀⠀⠀⠡⠀⠀⠀⠀⠀⠀\n",
      "⠀⠀⢀⠤⠀⠀⠀⠀⠀⠀⠀⠀⠀⠀⠀⠀⠀⠀⠀⠀⠀⠀⢀⡔⣮⠀⠂⠢⣀⡆⠁⡤⡀⠀⠀\n",
      "⠀⠀⢀⠀⠈⠂⠀⠀⠀⠀⠀⠀⠀⠀⠀⠀⠀⠀⠀⠀⠀⠀⠈⠛⠛⠀⠀⠀⠀⡀⠀⠀⡸⠀⠀\n",
      "⠀⠀⠈⡄⠀⢰⠀⠀⠀⠀⠀⠀⠀⠀⠀⠀⠀⠀⠀⠀⠀⠀⠀⠀⠀⠀⠀⠀⠀⠃⠀⡀⠨⠀⠀\n",
      "⠀⠀⠀⠐⡄⠀⠄⠀⠀⠀⠀⠀⠀⢀⠀⠀⠀⠀⠀⠀⠀⠀⠀⠀⠀⠀⠀⠀⡘⠂⠂⠈⠀⠀⠀\n",
      "⠀⠀⠀⠀⠈⢄⠈⠄⠀⠀⠀⠀⠀⠉⠀⠀⠀⠀⠀⠀⠀⠀⠀⠀⠀⠀⠀⡐⠀⡠⠔⠀⠉⠱⠀\n",
      "⠀⠀⠀⠀⠀⠀⠠⡀⠢⡀⠀⠀⠀⢠⠤⢀⣀⡀⠀⠀⠀⠀⠀⠀⠀⢀⡈⠐⠁⠀⠀⢀⠔⠁⠀\n",
      "⠀⠀⠀⠀⠀⠀⠀⠘⠀⠈⠀⠄⡀⠘⡀⠀⢀⠄⠀⠀⠀⠀⠀⡀⠐⠁⠀⠀⢀⠠⠂⠁⠀⠐⠀\n",
      "⠀⠀⠀⠀⠀⠀⠀⠀⠆⠀⠀⠀⠀⠁⠘⠀⠁⠀⠀⠀⠐⠀⠁⠀⠀⢀⠄⠒⠁⠀⠀</span>, <span class=\"u_cbox_contents\" data-lang=\"ko\" style=\"\">보고 갈테니까 제발 액정 밖으로 나와줘</span>, <span class=\"u_cbox_contents\" data-lang=\"ko\" style=\"\">후드 잡으려고 뛰는 거 넘웃겨요강아지갓아</span>, <span class=\"u_cbox_contents\" data-lang=\"ko\" style=\"\">마루야.. AI가 너는 어떻게 안되나보다야</span>, <span class=\"u_cbox_contents\" data-lang=\"ko\" style=\"\">아놔ㅠ 순정쌤 너무 매력적인 캐릭터라 돌겠음ㅜㅜ 절대순정해</span>, <span class=\"u_cbox_contents\" data-lang=\"ko\" style=\"\">아니 작가님 마루 이모티콘이 나왔는데 언급 안하시면 어떡합니까? 싸람들 마루 이모티콘 나왔어요!!!!</span>, <span class=\"u_cbox_contents\" data-lang=\"ko\" style=\"\">안녕하세용 자까님 저는 봉사시간에 선플 달기 활동중인 중학교1학년 입니당 ㅎㅎ 어떤 자까님한테 댓글 달아드릴까 고민중이다 제가 평소에 즐겨보는 웹툰인 마루는 강쥐 자까님에게 글을 한 번 올려봅니당..ㅎㅎ자까님 앞으로도 악플에 상처받지 마시고 좋은댓글만 보시면서 즐겁게 활동해주세요! 그리고 자까님 그림체 개기여워요!!!!!!!!</span>, <span class=\"u_cbox_contents\" data-lang=\"ko\" style=\"\">안녕하세요 저는 초반부터 웹툰을 본 중학생입니당 학교에서 선플달기 같은걸 해서 남겨보네욤.. 항상 그림체도 귀엽고 내용도 따뜻 몽글몽글해요!̆̈!̆̈ 진짜 매일매일 보고싶어요 ㅜㅜ 항상 힘내세요</span>, <span class=\"u_cbox_contents\" data-lang=\"ko\" style=\"\">(정보) 마루 이모티콘 카카오톡에 출시됨.완전 귀여움.\n",
      "구매 ㄱ</span>]\n"
     ]
    }
   ],
   "source": [
    "comment_area = soup.findAll('span',{'class','u_cbox_contents'})\n",
    "print(comment_area)"
   ]
  },
  {
   "cell_type": "code",
   "execution_count": 28,
   "id": "bd52b8d8",
   "metadata": {},
   "outputs": [
    {
     "name": "stdout",
     "output_type": "stream",
     "text": [
      "-----------베스트 댓글------------\n",
      "안보고 가면 사람 아님\n",
      "--------------------\n",
      "애기야...... 오늘도 아줌마 치유해줘서 고마워....\n",
      "--------------------\n",
      "마루 강쥐 모먼트 나올 때마다 미치겠다ㅋㅋㅋㅋㅋㅋㅋㅋㅋㅋㅋㅋㅋ\n",
      "--------------------\n",
      "혹시 반려견과 함께하시는분? 다들 마루처럼 후드를 극혐하나요? 진짜 궁금해요ㅋㅋㅋㅋㅋㅋㅋㅋㅋㅋㅋ\n",
      "--------------------\n",
      "나 마루랑 친구하고 싶음....우리 아파트 단지에 마루가 살았으면 좋겠음......\n",
      "집에 우연히 오다 마주쳐서 마루 떡볶이 사주고....\n",
      "마루랑 마주치면 놀고.....\n",
      "1인 1가구 마루 시급함..\n",
      "--------------------\n",
      "아 임주스씨 서율이에게 옷 대보는 거 그냥 아빠임\n",
      "--------------------\n",
      "⠀⠀⠀⠀⠀⠀⠀⠀⠀⠀⠀⠀⠀⠀⠀⠀⠀⠀⠀⠀⠀⠀⠀⠀⠀⠀⠀⠀⠀⠀⠀⠀⠀⠀⠀\n",
      "⠀⠀⠀⠀⠀⠀⠀⠀⠔⢂⠐⠠⡀⠠⠀⠐⠒⠒⠒⠂⠀⠤⢀⠀⠀⠀⠀⠀⠀⠀⠀⠀⠀⠀⠀\n",
      "⠀⠀⠀⠀⠀⠀⠀⡈⠀⡠⠀⠁⠀⠀⠀⠀⠀⠀⠀⠀⠀⠀⠀⠈⠂⠀⠀⠀⠀⠀⠀⠀⠀⠀⠀\n",
      "⠀⠀⠀⠀⠀⠀⠀⠀⠀⠀⠈⠒⠢⠀⠄⠀⠀⠀⠀⠀⠀⠀⠀⠀⠀⠀⠢⠀⠀⠀⠀⠀⠀⠀⠀\n",
      "⠀⠀⠀⠀⠀⠀⠌⠀⠀⠀⢠⣐⣄⠀⠀⠉⠑⠀⢄⣀⠀⠀⠀⠀⠀⠀⠀⠑⡀⠀⠀⠀⠀⠀⠀\n",
      "⠀⠀⠀⠀⠀⠰⠀⠀⠀⠀⠈⠛⠁⠀⠀⠀⠀⠀⠀⠀⠁⠒⠤⠄⠀⠀⠀⠀⠡⠀⠀⠀⠀⠀⠀\n",
      "⠀⠀⢀⠤⠀⠀⠀⠀⠀⠀⠀⠀⠀⠀⠀⠀⠀⠀⠀⠀⠀⠀⢀⡔⣮⠀⠂⠢⣀⡆⠁⡤⡀⠀⠀\n",
      "⠀⠀⢀⠀⠈⠂⠀⠀⠀⠀⠀⠀⠀⠀⠀⠀⠀⠀⠀⠀⠀⠀⠈⠛⠛⠀⠀⠀⠀⡀⠀⠀⡸⠀⠀\n",
      "⠀⠀⠈⡄⠀⢰⠀⠀⠀⠀⠀⠀⠀⠀⠀⠀⠀⠀⠀⠀⠀⠀⠀⠀⠀⠀⠀⠀⠀⠃⠀⡀⠨⠀⠀\n",
      "⠀⠀⠀⠐⡄⠀⠄⠀⠀⠀⠀⠀⠀⢀⠀⠀⠀⠀⠀⠀⠀⠀⠀⠀⠀⠀⠀⠀⡘⠂⠂⠈⠀⠀⠀\n",
      "⠀⠀⠀⠀⠈⢄⠈⠄⠀⠀⠀⠀⠀⠉⠀⠀⠀⠀⠀⠀⠀⠀⠀⠀⠀⠀⠀⡐⠀⡠⠔⠀⠉⠱⠀\n",
      "⠀⠀⠀⠀⠀⠀⠠⡀⠢⡀⠀⠀⠀⢠⠤⢀⣀⡀⠀⠀⠀⠀⠀⠀⠀⢀⡈⠐⠁⠀⠀⢀⠔⠁⠀\n",
      "⠀⠀⠀⠀⠀⠀⠀⠘⠀⠈⠀⠄⡀⠘⡀⠀⢀⠄⠀⠀⠀⠀⠀⡀⠐⠁⠀⠀⢀⠠⠂⠁⠀⠐⠀\n",
      "⠀⠀⠀⠀⠀⠀⠀⠀⠆⠀⠀⠀⠀⠁⠘⠀⠁⠀⠀⠀⠐⠀⠁⠀⠀⢀⠄⠒⠁⠀⠀\n",
      "--------------------\n",
      "보고 갈테니까 제발 액정 밖으로 나와줘\n",
      "--------------------\n",
      "후드 잡으려고 뛰는 거 넘웃겨요강아지갓아\n",
      "--------------------\n",
      "마루야.. AI가 너는 어떻게 안되나보다야\n",
      "--------------------\n",
      "아놔ㅠ 순정쌤 너무 매력적인 캐릭터라 돌겠음ㅜㅜ 절대순정해\n",
      "--------------------\n",
      "아니 작가님 마루 이모티콘이 나왔는데 언급 안하시면 어떡합니까? 싸람들 마루 이모티콘 나왔어요!!!!\n",
      "--------------------\n",
      "안녕하세용 자까님 저는 봉사시간에 선플 달기 활동중인 중학교1학년 입니당 ㅎㅎ 어떤 자까님한테 댓글 달아드릴까 고민중이다 제가 평소에 즐겨보는 웹툰인 마루는 강쥐 자까님에게 글을 한 번 올려봅니당..ㅎㅎ자까님 앞으로도 악플에 상처받지 마시고 좋은댓글만 보시면서 즐겁게 활동해주세요! 그리고 자까님 그림체 개기여워요!!!!!!!!\n",
      "--------------------\n",
      "안녕하세요 저는 초반부터 웹툰을 본 중학생입니당 학교에서 선플달기 같은걸 해서 남겨보네욤.. 항상 그림체도 귀엽고 내용도 따뜻 몽글몽글해요!̆̈!̆̈ 진짜 매일매일 보고싶어요 ㅜㅜ 항상 힘내세요\n",
      "--------------------\n",
      "(정보) 마루 이모티콘 카카오톡에 출시됨.완전 귀여움.\n",
      "구매 ㄱ\n",
      "--------------------\n"
     ]
    }
   ],
   "source": [
    "print('-----------베스트 댓글------------')\n",
    "for i in range(len(comment_area)):\n",
    "    comment = comment_area[i].text.strip()\n",
    "    print(comment)\n",
    "    print('--------------------')"
   ]
  },
  {
   "cell_type": "markdown",
   "id": "8ebc328d",
   "metadata": {},
   "source": [
    "### XPath\n",
    "* 선택된 element에서 오른쪽 마우스 -> copy -> copy full XPath\n",
    "* XPath: 기존의 컴퓨터 파일 시스템에서 사용하는 경로 표현식과 유사한 XML의 경로 언어 \n",
    "* /html/body/div[1]/div[5]/div/div/div[4]/div[1]/div[3]/div/div/div[8]/a/span[1]"
   ]
  },
  {
   "cell_type": "code",
   "execution_count": 30,
   "id": "1df34760",
   "metadata": {},
   "outputs": [],
   "source": [
    "# '전체 댓글 더보기' 클릭하기\n",
    "driver.find_element('xpath', '/html/body/div[1]/div[5]/div/div/div[4]/div[1]/div[3]/div/div/div[8]/a/span[1]').click()"
   ]
  },
  {
   "cell_type": "code",
   "execution_count": 31,
   "id": "48dcfd18",
   "metadata": {},
   "outputs": [
    {
     "name": "stdout",
     "output_type": "stream",
     "text": [
      "[<span class=\"u_cbox_contents\" data-lang=\"ko\" style=\"\">너무 귀여워...후드티 미쳤네</span>, <span class=\"u_cbox_contents\" data-lang=\"ko\" style=\"\">우리 마루 엠비티아이 E구나...</span>, <span class=\"u_cbox_contents\" data-lang=\"ko\" style=\"\">마루 귀여워ㅜㅜ 율이도 귀여워ㅠ 사랑둥이들</span>, <span class=\"u_cbox_contents\" data-lang=\"ko\" style=\"\">아 ㅁㅊ웹툰인데 왜 푸다닥소리가 들리냐</span>, <span class=\"u_cbox_contents\" data-lang=\"ko\" style=\"\">바다 하늘 공원 편 애들 아님?</span>, <span class=\"u_cbox_contents\" data-lang=\"ko\" style=\"\">아 ㅠㅠㅠㅠ 마루가 도토리 내미니까 이천원에서 천원으로 깍였어 ㅠㅠㅠㅋㅋㅋㅋㅋ귀여워...</span>, <span class=\"u_cbox_contents\" data-lang=\"ko\" style=\"\">글씨 바꼈다!!</span>, <span class=\"u_cbox_contents\" data-lang=\"ko\" style=\"\">ㄱㅇㅇㅠㅠㅠ 치유..치유ㅠㅠㅠ핫ㅠㅠㅠㅠ</span>, <span class=\"u_cbox_contents\" data-lang=\"ko\" style=\"\">마루야... 덕분에 뇌가 좀 클린해진거같다... ㅜㅜ</span>, <span class=\"u_cbox_contents\" data-lang=\"ko\" style=\"\">오, 이번 화부터 제목 폰트가 바꼈네요!!</span>, <span class=\"u_cbox_contents\" data-lang=\"ko\" style=\"\">ㅋㅋㅋㅋㅋㅋ마루가 도토리 밖에 없으니까 천원으로 깎아주는거 귀여웤ㅋㅋ</span>, <span class=\"u_cbox_contents\" data-lang=\"ko\" style=\"\">역시 임주스는 앞머리 내린게 더 존ㅈ\n",
      "\n",
      "\n",
      "\n",
      "만화 애들 부럽ㄷㅏ 이마에 트러블이나 팔에 팔털 그딴것도 없구...</span>, <span class=\"u_cbox_contents\" data-lang=\"ko\" style=\"\">개귀엽다ㅠㅠ</span>, <span class=\"u_cbox_contents\" data-lang=\"ko\" style=\"\">저 여자애.. 언제 나왔더라..?</span>, <span class=\"u_cbox_contents\" data-lang=\"ko\" style=\"\">ㅋㅋ보고가쟈</span>]\n"
     ]
    }
   ],
   "source": [
    "soup = BeautifulSoup(driver.page_source)\n",
    "comment_area = soup.findAll('span',{'class','u_cbox_contents'})\n",
    "print(comment_area)"
   ]
  },
  {
   "cell_type": "code",
   "execution_count": 32,
   "id": "f252f1f8",
   "metadata": {},
   "outputs": [
    {
     "name": "stdout",
     "output_type": "stream",
     "text": [
      "----------전체 댓글------------\n",
      "너무 귀여워...후드티 미쳤네\n",
      "--------------------\n",
      "우리 마루 엠비티아이 E구나...\n",
      "--------------------\n",
      "마루 귀여워ㅜㅜ 율이도 귀여워ㅠ 사랑둥이들\n",
      "--------------------\n",
      "아 ㅁㅊ웹툰인데 왜 푸다닥소리가 들리냐\n",
      "--------------------\n",
      "바다 하늘 공원 편 애들 아님?\n",
      "--------------------\n",
      "아 ㅠㅠㅠㅠ 마루가 도토리 내미니까 이천원에서 천원으로 깍였어 ㅠㅠㅠㅋㅋㅋㅋㅋ귀여워...\n",
      "--------------------\n",
      "글씨 바꼈다!!\n",
      "--------------------\n",
      "ㄱㅇㅇㅠㅠㅠ 치유..치유ㅠㅠㅠ핫ㅠㅠㅠㅠ\n",
      "--------------------\n",
      "마루야... 덕분에 뇌가 좀 클린해진거같다... ㅜㅜ\n",
      "--------------------\n",
      "오, 이번 화부터 제목 폰트가 바꼈네요!!\n",
      "--------------------\n",
      "ㅋㅋㅋㅋㅋㅋ마루가 도토리 밖에 없으니까 천원으로 깎아주는거 귀여웤ㅋㅋ\n",
      "--------------------\n",
      "역시 임주스는 앞머리 내린게 더 존ㅈ\n",
      "\n",
      "\n",
      "\n",
      "만화 애들 부럽ㄷㅏ 이마에 트러블이나 팔에 팔털 그딴것도 없구...\n",
      "--------------------\n",
      "개귀엽다ㅠㅠ\n",
      "--------------------\n",
      "저 여자애.. 언제 나왔더라..?\n",
      "--------------------\n",
      "ㅋㅋ보고가쟈\n",
      "--------------------\n"
     ]
    }
   ],
   "source": [
    "print('----------전체 댓글------------')\n",
    "for i in range(len(comment_area)):\n",
    "    comment = comment_area[i].text.strip()\n",
    "    print(comment)\n",
    "    print('--------------------')"
   ]
  },
  {
   "cell_type": "code",
   "execution_count": null,
   "id": "642c2533",
   "metadata": {},
   "outputs": [],
   "source": []
  }
 ],
 "metadata": {
  "kernelspec": {
   "display_name": "Python 3 (ipykernel)",
   "language": "python",
   "name": "python3"
  },
  "language_info": {
   "codemirror_mode": {
    "name": "ipython",
    "version": 3
   },
   "file_extension": ".py",
   "mimetype": "text/x-python",
   "name": "python",
   "nbconvert_exporter": "python",
   "pygments_lexer": "ipython3",
   "version": "3.8.6"
  }
 },
 "nbformat": 4,
 "nbformat_minor": 5
}
